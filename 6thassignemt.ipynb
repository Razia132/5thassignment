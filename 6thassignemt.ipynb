{
  "nbformat": 4,
  "nbformat_minor": 0,
  "metadata": {
    "colab": {
      "provenance": []
    },
    "kernelspec": {
      "name": "python3",
      "display_name": "Python 3"
    },
    "language_info": {
      "name": "python"
    }
  },
  "cells": [
    {
      "cell_type": "markdown",
      "source": [
        "**Files, exceptional handling,\n",
        "logging and memory\n",
        "management**\n",
        "1. What is the difference between interpreted and compiled languages?\n",
        "--> Interpreted languages run code line by line, making them easy to debug,whereas Compiled languages convert code into machine code before running, making them faster.\n",
        "\n",
        "2. What is exception handling in Python?\n",
        "--> It manages errors during execution, preventing the program from crashing.\n",
        "\n",
        "3. What is the purpose of the finally block in exception handling?\n",
        "--> The finally block runs code no matter what even if an error happens. It’s useful for cleanup tasks like closing files or freeing up resources.\n",
        "\n",
        "4. What is logging in Python?\n",
        "--> Logging records events in a program, like errors or actions, making it easier to track and debug.\n",
        "\n",
        "5. What is the significance of the del method in Python?\n",
        "--> The __del__ method is called when an object is deleted, freeing up memory automatically. It helps in resource management.\n",
        "\n",
        "6. What is the difference between import and from ... import in Python?\n",
        "--> import imports the whole module.\n",
        ",from ... import imports specific parts only.\n",
        "\n",
        "7. How can you handle multiple exceptions in Python?\n",
        "--> You can handle multiple exceptions by using multiple except blocks or combining exceptions in one block using tuples.\n",
        "8. What is the purpose of the with statement when handling files in Python?\n",
        "--> The with statement automatically closes files after use, even if an error occurs. It makes file handling cleaner and safer.\n",
        "\n",
        "9. What is the difference between multithreading and multiprocessing?\n",
        "--> Multithreading runs multiple threads in one process, sharing memory, making it ideal for I/O tasks,where as Multiprocessing runs multiple processes, each with its own memory, making it better for CPU-intensive tasks.\n",
        "\n",
        "10. What are the advantages of using logging in a program?\n",
        "--> Tracks errors and events, Helps debug and monitor the program,Saves records for future analysis.\n",
        "\n",
        "11. What is memory management in Python?\n",
        "--> Memory management is automatic in Python. It uses garbage collection to free up memory by deleting unused objects.\n",
        "\n",
        "12. What are the basic steps involved in exception handling in Python?\n",
        "\n",
        "-->Using a try block to run risky code.\n",
        "Use an except block to handle errors.\n",
        "Optionally, use a finally block to run cleanup code.\n",
        "13. Why is memory management important in Python?\n",
        "--> Prevents memory leaks, Saves memory and improves performance, Ensures efficient use of resources.\n",
        "\n",
        "14. What is the role of try and except in exception handling?\n",
        "--> The try block runs risky code, and the except block handles any errors if they occur, preventing program crashes.\n",
        "\n",
        "15. How does Python's garbage collection system work?\n",
        "--> Python’s garbage collector automatically deletes objects that are no longer needed, freeing memory.\n",
        "\n",
        "16. What is the purpose of the else block in exception handling?\n",
        "--> The else block runs only if no error occurs in the try block. It’s useful for code that should run only when no exceptions are raised.\n",
        "\n",
        "17. What are the common logging levels in Python?\n",
        "--> DEBUG: Detailed information for diagnosing problems.\n",
        "--> INFO: General info about the program.\n",
        "\n",
        "18. What is the difference between os.fork() and multiprocessing in Python?\n",
        "--> os.fork() creates a new process directly but works only on Unix-like systems,whereas multiprocessing works on all systems and is easier to use.\n",
        "\n",
        "19. What is the importance of closing a file in Python?\n",
        "--> Closing a file frees up resources and ensures data is properly saved and not corrupted.\n",
        "\n",
        "20. What is the difference between file.read() and file.readline() in Python?\n",
        "--> file.read() reads the entire file at once,whereas file.readline() reads one line at a time.\n",
        "\n",
        "21. What is the logging module in Python used for?\n",
        "--> The logging module records program events and errors, making debugging and tracking easier.\n",
        "\n",
        "22. What is the os module in Python used for in file handling?\n",
        "--> The os module helps interact with the operating system, like creating, deleting, and renaming files.\n",
        "\n",
        "23. What are the challenges associated with memory management in Python?\n",
        "--> Garbage collection can be slow\n",
        ".Memory leaks can occur if objects aren’t released properly, Managing large data structures can be tricky.\n",
        "\n",
        "24. How do you raise an exception manually in Python?\n",
        "--> Using  the raise keyword.\n",
        "25. Why is it important to use multithreading in certain applications?\n",
        "--> Runs multiple tasks at once, making programs faster, Best for I/O tasks like downloading files or handling multiple user requests,Utilizes idle time when waiting for external resources."
      ],
      "metadata": {
        "id": "nZmF2IiTFu-T"
      }
    },
    {
      "cell_type": "code",
      "source": [
        "# 1. How can you open a file for writing in Python and write a string to it?\n",
        "with open(\"example.txt\", \"w\") as file:\n",
        "    file.write(\"Hello, PW skills!\")"
      ],
      "metadata": {
        "id": "lunIkEVFIReo"
      },
      "execution_count": null,
      "outputs": []
    },
    {
      "cell_type": "code",
      "source": [
        "# 2. Write a Python program to read the contents of a file and print each line.\n",
        "with open(\"example.txt\", \"r\") as file:\n",
        "    for line in file:\n",
        "        print(line.strip())"
      ],
      "metadata": {
        "colab": {
          "base_uri": "https://localhost:8080/"
        },
        "id": "nsZ8A5mEIWN-",
        "outputId": "7ec39fe4-3348-4d6f-c3b2-a06604e8e5ca"
      },
      "execution_count": null,
      "outputs": [
        {
          "output_type": "stream",
          "name": "stdout",
          "text": [
            "Hello, PW skills!\n"
          ]
        }
      ]
    },
    {
      "cell_type": "code",
      "source": [
        "\n",
        "# 3. How would you handle a case where the file doesn't exist while trying to open it for reading?\n",
        "try:\n",
        "    with open(\"non_existent_file.txt\", \"r\") as file:\n",
        "        print(file.read())\n",
        "except FileNotFoundError:\n",
        "    print(\"File not found!\")"
      ],
      "metadata": {
        "colab": {
          "base_uri": "https://localhost:8080/"
        },
        "id": "kCEdPW9XIWQf",
        "outputId": "1a9b3f15-5a1a-4293-fff7-ff4d32eaad8c"
      },
      "execution_count": null,
      "outputs": [
        {
          "output_type": "stream",
          "name": "stdout",
          "text": [
            "File not found!\n"
          ]
        }
      ]
    },
    {
      "cell_type": "code",
      "source": [
        "# 4. Write a Python script that reads from one file and writes its content to another file.\n",
        "try:\n",
        "    with open(\"source.txt\", \"r\") as source, open(\"destination.txt\", \"w\") as destination:\n",
        "        destination.write(source.read())\n",
        "    print(\"Content copied successfully!\")\n",
        "except FileNotFoundError:\n",
        "    print(\"The file 'source.txt' does not exist. Please create it.\")\n"
      ],
      "metadata": {
        "colab": {
          "base_uri": "https://localhost:8080/"
        },
        "id": "86uS5uu-IWTH",
        "outputId": "1c8e1cda-54ef-4ffd-edcf-f7767e1beed4"
      },
      "execution_count": null,
      "outputs": [
        {
          "output_type": "stream",
          "name": "stdout",
          "text": [
            "The file 'source.txt' does not exist. Please create it.\n"
          ]
        }
      ]
    },
    {
      "cell_type": "code",
      "source": [
        "# 5. How would you catch and handle division by zero error in Python?\n",
        "try:\n",
        "    result = 10 / 0\n",
        "except ZeroDivisionError:\n",
        "    print(\"Cannot divide by zero!\")"
      ],
      "metadata": {
        "colab": {
          "base_uri": "https://localhost:8080/"
        },
        "id": "j_IjSMaLIWV7",
        "outputId": "e7826842-b020-4d75-d6bb-3c00760da22b"
      },
      "execution_count": null,
      "outputs": [
        {
          "output_type": "stream",
          "name": "stdout",
          "text": [
            "Cannot divide by zero!\n"
          ]
        }
      ]
    },
    {
      "cell_type": "code",
      "source": [
        "# 6. Write a Python program that logs an error message to a log file when a division by zero exception occurs.\n",
        "import logging\n",
        "logging.basicConfig(filename=\"app.log\", level=logging.ERROR)\n",
        "try:\n",
        "    result = 10 / 0\n",
        "except ZeroDivisionError:\n",
        "    logging.error(\"Division by zero error occurred\")"
      ],
      "metadata": {
        "colab": {
          "base_uri": "https://localhost:8080/"
        },
        "id": "kJ8IEieJIWYw",
        "outputId": "79f3ef30-b9ab-4463-cbe1-663140c5e7b2"
      },
      "execution_count": null,
      "outputs": [
        {
          "output_type": "stream",
          "name": "stderr",
          "text": [
            "ERROR:root:Division by zero error occurred\n"
          ]
        }
      ]
    },
    {
      "cell_type": "code",
      "source": [
        "# 7. How do you log information at different levels (INFO, ERROR, WARNING) in Python using the logging module?\n",
        "logging.basicConfig(level=logging.INFO)\n",
        "logging.info(\"This is an info message\")\n",
        "logging.warning(\"This is a warning message\")\n",
        "logging.error(\"This is an error message\")"
      ],
      "metadata": {
        "colab": {
          "base_uri": "https://localhost:8080/"
        },
        "id": "pqdvfhstIWba",
        "outputId": "b00fcbe1-cb03-4ed5-acaf-121bf96aa877"
      },
      "execution_count": null,
      "outputs": [
        {
          "output_type": "stream",
          "name": "stderr",
          "text": [
            "WARNING:root:This is a warning message\n",
            "ERROR:root:This is an error message\n"
          ]
        }
      ]
    },
    {
      "cell_type": "code",
      "source": [
        "# 8. Write a program to handle a file opening error using exception handling.\n",
        "try:\n",
        "    with open(\"non_existent_file.txt\", \"r\") as file:\n",
        "        print(file.read())\n",
        "except FileNotFoundError:\n",
        "    print(\"File not found!\")"
      ],
      "metadata": {
        "colab": {
          "base_uri": "https://localhost:8080/"
        },
        "id": "JpvQZlpOIWeJ",
        "outputId": "64a1049a-7df8-4a5f-e3ab-e0b26fd1ff54"
      },
      "execution_count": null,
      "outputs": [
        {
          "output_type": "stream",
          "name": "stdout",
          "text": [
            "File not found!\n"
          ]
        }
      ]
    },
    {
      "cell_type": "code",
      "source": [
        "# 9. How can you read a file line by line and store its content in a list in Python?\n",
        "with open(\"example.txt\", \"r\") as file:\n",
        "    lines = [line.strip() for line in file]\n",
        "print(lines)"
      ],
      "metadata": {
        "colab": {
          "base_uri": "https://localhost:8080/"
        },
        "id": "OffmN-ctIWha",
        "outputId": "6142df87-020b-4c15-993a-2165348309cd"
      },
      "execution_count": null,
      "outputs": [
        {
          "output_type": "stream",
          "name": "stdout",
          "text": [
            "['Hello, PW skills!']\n"
          ]
        }
      ]
    },
    {
      "cell_type": "code",
      "source": [
        "# 10. How can you append data to an existing file in Python?\n",
        "with open(\"example.txt\", \"a\") as file:\n",
        "    file.write(\"\\nAppended line!\")"
      ],
      "metadata": {
        "id": "lC2HLmQhIWkA"
      },
      "execution_count": null,
      "outputs": []
    },
    {
      "cell_type": "code",
      "source": [
        "# 11. Write a Python program that uses a try-except block to handle an error when attempting to access a dictionary key that doesn't exist.\n",
        "my_dict = {\"name\": \"Python\"}\n",
        "try:\n",
        "    print(my_dict[\"age\"])\n",
        "except KeyError:\n",
        "    print(\"Key not found!\")"
      ],
      "metadata": {
        "colab": {
          "base_uri": "https://localhost:8080/"
        },
        "id": "YHR8EZsJIWmn",
        "outputId": "3feab9ec-32e5-40ee-b0e8-ea1bd31ca0b6"
      },
      "execution_count": null,
      "outputs": [
        {
          "output_type": "stream",
          "name": "stdout",
          "text": [
            "Key not found!\n"
          ]
        }
      ]
    },
    {
      "cell_type": "code",
      "source": [
        "# 12. Write a program that demonstrates using multiple except blocks to handle different types of exceptions.\n",
        "try:\n",
        "    result = 10 / 0\n",
        "except ZeroDivisionError:\n",
        "    print(\"Cannot divide by zero!\")\n",
        "except ValueError:\n",
        "    print(\"Invalid value!\")"
      ],
      "metadata": {
        "colab": {
          "base_uri": "https://localhost:8080/"
        },
        "id": "TVVyizJrIWpf",
        "outputId": "d79045f1-a22c-4f23-adb1-b1a773ff3676"
      },
      "execution_count": null,
      "outputs": [
        {
          "output_type": "stream",
          "name": "stdout",
          "text": [
            "Cannot divide by zero!\n"
          ]
        }
      ]
    },
    {
      "cell_type": "code",
      "source": [
        "# 13. How would you check if a file exists before attempting to read it in Python?\n",
        "import os\n",
        "if os.path.exists(\"example.txt\"):\n",
        "    with open(\"example.txt\", \"r\") as file:\n",
        "        print(file.read())\n",
        "else:\n",
        "    print(\"File does not exist!\")"
      ],
      "metadata": {
        "colab": {
          "base_uri": "https://localhost:8080/"
        },
        "id": "DtIL8ROVIWsW",
        "outputId": "2e90ef84-3b79-4f31-be8f-a7d5b953415e"
      },
      "execution_count": null,
      "outputs": [
        {
          "output_type": "stream",
          "name": "stdout",
          "text": [
            "Hello, PW skills!\n",
            "Appended line!\n",
            "Appended line!\n"
          ]
        }
      ]
    },
    {
      "cell_type": "code",
      "source": [
        "# 14. Write a program that uses the logging module to log both informational and error messages.\n",
        "logging.basicConfig(filename=\"app.log\", level=logging.INFO)\n",
        "logging.info(\"Info message logged\")\n",
        "try:\n",
        "    result = 10 / 0\n",
        "except ZeroDivisionError:\n",
        "    logging.error(\"Division by zero error occurred\")"
      ],
      "metadata": {
        "id": "KnMGzCMtLoQw",
        "outputId": "7c038dea-25ce-4d70-eae3-01fbff977e1f",
        "colab": {
          "base_uri": "https://localhost:8080/"
        }
      },
      "execution_count": null,
      "outputs": [
        {
          "output_type": "stream",
          "name": "stderr",
          "text": [
            "ERROR:root:Division by zero error occurred\n"
          ]
        }
      ]
    },
    {
      "cell_type": "code",
      "source": [
        "# 15. Write a Python program that prints the content of a file and handles the case when the file is empty.\n",
        "with open(\"example.txt\", \"r\") as file:\n",
        "    content = file.read().strip()\n",
        "    if content:\n",
        "        print(content)\n",
        "    else:\n",
        "        print(\"File is empty\")"
      ],
      "metadata": {
        "id": "ZJqJ4YToLoTi",
        "colab": {
          "base_uri": "https://localhost:8080/"
        },
        "outputId": "a3494a02-e490-4e34-9f7d-a634f934d017"
      },
      "execution_count": 20,
      "outputs": [
        {
          "output_type": "stream",
          "name": "stdout",
          "text": [
            "Hello, PW skills!\n",
            "Appended line!\n",
            "Appended line!\n"
          ]
        }
      ]
    },
    {
      "cell_type": "code",
      "source": [
        "# 16. Demonstrate how to use memory profiling to check the memory usage of a small program."
      ],
      "metadata": {
        "id": "xkxJMBQnLoWP",
        "colab": {
          "base_uri": "https://localhost:8080/",
          "height": 106
        },
        "outputId": "17648073-d0a9-4fcf-80ad-390915c5155e"
      },
      "execution_count": 22,
      "outputs": [
        {
          "output_type": "error",
          "ename": "SyntaxError",
          "evalue": "invalid syntax (<ipython-input-22-a41f9a8b4b32>, line 2)",
          "traceback": [
            "\u001b[0;36m  File \u001b[0;32m\"<ipython-input-22-a41f9a8b4b32>\"\u001b[0;36m, line \u001b[0;32m2\u001b[0m\n\u001b[0;31m    pip install memory-profiler\u001b[0m\n\u001b[0m        ^\u001b[0m\n\u001b[0;31mSyntaxError\u001b[0m\u001b[0;31m:\u001b[0m invalid syntax\n"
          ]
        }
      ]
    },
    {
      "cell_type": "code",
      "source": [
        "# 16. Demonstrate how to use memory profiling to check the memory usage of a small program.\n",
        "from memory_profiler import profile\n",
        "\n",
        "@profile\n",
        "def my_function():\n",
        "    x = [i for i in range(1000)]\n",
        "    return x\n",
        "\n",
        "my_function()"
      ],
      "metadata": {
        "id": "IfQh86Y7LoY5",
        "colab": {
          "base_uri": "https://localhost:8080/",
          "height": 383
        },
        "outputId": "75216453-10aa-4ce7-a61c-3459075db540"
      },
      "execution_count": 24,
      "outputs": [
        {
          "output_type": "error",
          "ename": "ModuleNotFoundError",
          "evalue": "No module named 'memory_profiler'",
          "traceback": [
            "\u001b[0;31m---------------------------------------------------------------------------\u001b[0m",
            "\u001b[0;31mModuleNotFoundError\u001b[0m                       Traceback (most recent call last)",
            "\u001b[0;32m<ipython-input-24-e35e0d805af5>\u001b[0m in \u001b[0;36m<cell line: 0>\u001b[0;34m()\u001b[0m\n\u001b[1;32m      1\u001b[0m \u001b[0;31m# 16. Demonstrate how to use memory profiling to check the memory usage of a small program.\u001b[0m\u001b[0;34m\u001b[0m\u001b[0;34m\u001b[0m\u001b[0m\n\u001b[0;32m----> 2\u001b[0;31m \u001b[0;32mfrom\u001b[0m \u001b[0mmemory_profiler\u001b[0m \u001b[0;32mimport\u001b[0m \u001b[0mprofile\u001b[0m\u001b[0;34m\u001b[0m\u001b[0;34m\u001b[0m\u001b[0m\n\u001b[0m\u001b[1;32m      3\u001b[0m \u001b[0;34m\u001b[0m\u001b[0m\n\u001b[1;32m      4\u001b[0m \u001b[0;34m@\u001b[0m\u001b[0mprofile\u001b[0m\u001b[0;34m\u001b[0m\u001b[0;34m\u001b[0m\u001b[0m\n\u001b[1;32m      5\u001b[0m \u001b[0;32mdef\u001b[0m \u001b[0mmy_function\u001b[0m\u001b[0;34m(\u001b[0m\u001b[0;34m)\u001b[0m\u001b[0;34m:\u001b[0m\u001b[0;34m\u001b[0m\u001b[0;34m\u001b[0m\u001b[0m\n",
            "\u001b[0;31mModuleNotFoundError\u001b[0m: No module named 'memory_profiler'",
            "",
            "\u001b[0;31m---------------------------------------------------------------------------\u001b[0;32m\nNOTE: If your import is failing due to a missing package, you can\nmanually install dependencies using either !pip or !apt.\n\nTo view examples of installing some common dependencies, click the\n\"Open Examples\" button below.\n\u001b[0;31m---------------------------------------------------------------------------\u001b[0m\n"
          ],
          "errorDetails": {
            "actions": [
              {
                "action": "open_url",
                "actionText": "Open Examples",
                "url": "/notebooks/snippets/importing_libraries.ipynb"
              }
            ]
          }
        }
      ]
    },
    {
      "cell_type": "code",
      "source": [
        "# 17. Write a Python program to create and write a list of numbers to a file, one number per line.\n",
        "numbers = [1, 2, 3, 4, 5]\n",
        "with open(\"numbers.txt\", \"w\") as file:\n",
        "    for number in numbers:\n",
        "        file.write(f\"{number}\\n\")"
      ],
      "metadata": {
        "id": "WdXT2zQQLobe"
      },
      "execution_count": 25,
      "outputs": []
    },
    {
      "cell_type": "code",
      "source": [
        "\n",
        "# 18. How would you implement a basic logging setup that logs to a file with rotation after 1MB?\n",
        "from logging.handlers import RotatingFileHandler\n",
        "handler = RotatingFileHandler(\"app.log\", maxBytes=1_000_000, backupCount=5)\n",
        "logging.basicConfig(handlers=[handler], level=logging.INFO)\n",
        "logging.info(\"Rotating log setup\")"
      ],
      "metadata": {
        "id": "y1-tKFBOLoeO"
      },
      "execution_count": 27,
      "outputs": []
    },
    {
      "cell_type": "code",
      "source": [
        "\n",
        "# 19. Write a program that handles both IndexError and KeyError using a try-except block.\n",
        "my_list = [1, 2, 3]\n",
        "my_dict = {\"name\": \"Python\"}\n",
        "try:\n",
        "    print(my_list[5])  # IndexError\n",
        "    print(my_dict[\"age\"])  # KeyError\n",
        "except IndexError:\n",
        "    print(\"Index out of range!\")\n",
        "except KeyError:\n",
        "    print(\"Key not found!\")"
      ],
      "metadata": {
        "id": "PmeX6DGULog-",
        "colab": {
          "base_uri": "https://localhost:8080/"
        },
        "outputId": "a41db3bd-4aeb-4500-aeba-d960902f43b8"
      },
      "execution_count": 28,
      "outputs": [
        {
          "output_type": "stream",
          "name": "stdout",
          "text": [
            "Index out of range!\n"
          ]
        }
      ]
    },
    {
      "cell_type": "code",
      "source": [
        "# 20. How would you open a file and read its contents using a context manager in Python?\n",
        "with open(\"example.txt\", \"r\") as file:\n",
        "    print(file.read())"
      ],
      "metadata": {
        "id": "cfZ3yFfULokl",
        "colab": {
          "base_uri": "https://localhost:8080/"
        },
        "outputId": "3c30db5c-7c64-4a09-ca6c-2f645412a3d2"
      },
      "execution_count": 29,
      "outputs": [
        {
          "output_type": "stream",
          "name": "stdout",
          "text": [
            "Hello, PW skills!\n",
            "Appended line!\n",
            "Appended line!\n"
          ]
        }
      ]
    },
    {
      "cell_type": "code",
      "source": [
        "# 21. Write a Python program that reads a file and prints the number of occurrences of a specific word.\n",
        "word_to_count = \"Python\"\n",
        "with open(\"example.txt\", \"r\") as file:\n",
        "    content = file.read()\n",
        "    count = content.count(word_to_count)\n",
        "print(f\"'{word_to_count}' occurs {count} times\")"
      ],
      "metadata": {
        "id": "M-SiiVbPIWvJ",
        "colab": {
          "base_uri": "https://localhost:8080/"
        },
        "outputId": "2c174e78-4586-4d33-9745-e3c5f431500c"
      },
      "execution_count": 30,
      "outputs": [
        {
          "output_type": "stream",
          "name": "stdout",
          "text": [
            "'Python' occurs 0 times\n"
          ]
        }
      ]
    },
    {
      "cell_type": "code",
      "source": [
        "# 22. How can you check if a file is empty before attempting to read its contents?\n",
        "if os.stat(\"example.txt\").st_size == 0:\n",
        "    print(\"File is empty\")\n",
        "else:\n",
        "    with open(\"example.txt\", \"r\") as file:\n",
        "        print(file.read())"
      ],
      "metadata": {
        "id": "6ypDc0b7IWxi",
        "colab": {
          "base_uri": "https://localhost:8080/"
        },
        "outputId": "5f34cbab-1bb4-4577-fb89-6d1ba678dd68"
      },
      "execution_count": 31,
      "outputs": [
        {
          "output_type": "stream",
          "name": "stdout",
          "text": [
            "Hello, PW skills!\n",
            "Appended line!\n",
            "Appended line!\n"
          ]
        }
      ]
    },
    {
      "cell_type": "code",
      "source": [
        "\n",
        "# 23. Write a Python program that writes to a log file when an error occurs during file handling.\n",
        "logging.basicConfig(filename=\"file_error.log\", level=logging.ERROR)\n",
        "try:\n",
        "    with open(\"non_existent_file.txt\", \"r\") as file:\n",
        "        print(file.read())\n",
        "except FileNotFoundError:\n",
        "    logging.error(\"File not found error occurred\")"
      ],
      "metadata": {
        "id": "31ZaTnR8IW1A",
        "colab": {
          "base_uri": "https://localhost:8080/"
        },
        "outputId": "069c2fa6-d13f-4b7f-ff75-70cc09509c9a"
      },
      "execution_count": 32,
      "outputs": [
        {
          "output_type": "stream",
          "name": "stderr",
          "text": [
            "ERROR:root:File not found error occurred\n"
          ]
        }
      ]
    },
    {
      "cell_type": "code",
      "execution_count": null,
      "metadata": {
        "id": "7IiS_FMHFuE8"
      },
      "outputs": [],
      "source": []
    }
  ]
}